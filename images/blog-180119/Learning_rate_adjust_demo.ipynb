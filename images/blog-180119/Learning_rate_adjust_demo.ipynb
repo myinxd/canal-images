{
 "cells": [
  {
   "cell_type": "code",
   "execution_count": 1,
   "metadata": {
    "collapsed": true
   },
   "outputs": [],
   "source": [
    "# A demo for learning rate adjustment"
   ]
  },
  {
   "cell_type": "code",
   "execution_count": 2,
   "metadata": {},
   "outputs": [],
   "source": [
    "import matplotlib\n",
    "matplotlib.use(\"Agg\")\n",
    "import matplotlib.pyplot as plt\n",
    "%matplotlib inline\n",
    "from matplotlib import gridspec"
   ]
  },
  {
   "cell_type": "code",
   "execution_count": 3,
   "metadata": {
    "collapsed": true
   },
   "outputs": [],
   "source": [
    "import tensorflow as tf\n",
    "import numpy as np"
   ]
  },
  {
   "cell_type": "code",
   "execution_count": 4,
   "metadata": {},
   "outputs": [],
   "source": [
    "init_lr = tf.Variable(0., name=\"LR\")\n",
    "global_step = tf.Variable(0., name=\"global_step\")\n",
    "decay_step = tf.Variable(0., name=\"decay_step\")\n",
    "decay_rate = tf.Variable(0., name=\"decay_rate\")"
   ]
  },
  {
   "cell_type": "code",
   "execution_count": 5,
   "metadata": {
    "collapsed": true
   },
   "outputs": [],
   "source": [
    "# Smooth learning rate\n",
    "learning_rate_sm = tf.train.exponential_decay(\n",
    "    learning_rate = init_lr ,\n",
    "    global_step = global_step,\n",
    "    decay_steps = decay_step,\n",
    "    decay_rate = decay_rate,\n",
    "    staircase=False,\n",
    "    name=None\n",
    "    )\n",
    "# Staircase learning rate\n",
    "learning_rate_st = tf.train.exponential_decay(\n",
    "    learning_rate = init_lr ,\n",
    "    global_step = global_step,\n",
    "    decay_steps = decay_step,\n",
    "    decay_rate = decay_rate,\n",
    "    staircase=True,\n",
    "    name=None\n",
    "    )"
   ]
  },
  {
   "cell_type": "code",
   "execution_count": 10,
   "metadata": {},
   "outputs": [],
   "source": [
    "# Test\n",
    "lr_init = 0.1\n",
    "epochs = 5000\n",
    "batches = 100.\n",
    "d_rate = 0.95\n",
    "epoch = np.arange(0,epochs,1)\n",
    "lr_sm = np.zeros(epoch.shape)\n",
    "lr_st = np.zeros(epoch.shape)\n",
    "# Init a session\n",
    "init_op = tf.global_variables_initializer()\n",
    "sess = tf.InteractiveSession()\n",
    "sess.run(init_op)\n",
    "for i in epoch.astype(int):\n",
    "    lr_sm[i] = sess.run(learning_rate_sm, \n",
    "                        feed_dict={init_lr: lr_init,\n",
    "                                   global_step: i,\n",
    "                                   decay_step: batches,\n",
    "                                   decay_rate: d_rate\n",
    "                                  })\n",
    "    lr_st[i] = sess.run(learning_rate_st, \n",
    "                        feed_dict={init_lr: lr_init,\n",
    "                                   global_step: i,\n",
    "                                   decay_step: batches,\n",
    "                                   decay_rate: d_rate\n",
    "                                  })"
   ]
  },
  {
   "cell_type": "code",
   "execution_count": null,
   "metadata": {},
   "outputs": [],
   "source": [
    "plt.rcParams[\"figure.figsize\"] = [8.0, 6.0]\n",
    "\n",
    "plt.plot(epoch,lr_sm,color='blue')\n",
    "plt.plot(epoch,lr_st,color='red')\n",
    "plt.xlabel(\"Epochs\",fontsize=14)\n",
    "plt.ylabel(\"Learning rate\",fontsize=14)\n",
    "plt.legend([\"Smooth\", \"Staircase\"],fontsize=14)\n",
    "plt.savefig(\"fig2.png\",bbox_inches='tight',dpi=200)"
   ]
  },
  {
   "cell_type": "code",
   "execution_count": null,
   "metadata": {
    "collapsed": true
   },
   "outputs": [],
   "source": []
  }
 ],
 "metadata": {
  "kernelspec": {
   "display_name": "Python 3",
   "language": "python",
   "name": "python3"
  },
  "language_info": {
   "codemirror_mode": {
    "name": "ipython",
    "version": 3
   },
   "file_extension": ".py",
   "mimetype": "text/x-python",
   "name": "python",
   "nbconvert_exporter": "python",
   "pygments_lexer": "ipython3",
   "version": "3.5.2+"
  }
 },
 "nbformat": 4,
 "nbformat_minor": 2
}
